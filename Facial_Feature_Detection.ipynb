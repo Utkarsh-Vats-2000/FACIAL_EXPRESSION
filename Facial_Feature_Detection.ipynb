{
  "nbformat": 4,
  "nbformat_minor": 0,
  "metadata": {
    "colab": {
      "name": "Feature_Detection.ipynb",
      "provenance": [],
      "collapsed_sections": [],
      "authorship_tag": "ABX9TyNpzwQz2hjFdmzaroOtR3ON",
      "include_colab_link": true
    },
    "kernelspec": {
      "name": "python3",
      "display_name": "Python 3"
    }
  },
  "cells": [
    {
      "cell_type": "markdown",
      "metadata": {
        "id": "view-in-github",
        "colab_type": "text"
      },
      "source": [
        "<a href=\"https://colab.research.google.com/github/utkarsh8273/FACIAL_EXPRESSION/blob/main/Facial_Feature_Detection.ipynb\" target=\"_parent\"><img src=\"https://colab.research.google.com/assets/colab-badge.svg\" alt=\"Open In Colab\"/></a>"
      ]
    },
    {
      "cell_type": "code",
      "metadata": {
        "id": "k7VWfxLiVlKf"
      },
      "source": [
        "import numpy as np\n",
        "from matplotlib import pyplot as plt\n",
        "import glob\n",
        "import cv2  "
      ],
      "execution_count": null,
      "outputs": []
    },
    {
      "cell_type": "code",
      "metadata": {
        "id": "Pc1TMMwfV1EN",
        "colab": {
          "base_uri": "https://localhost:8080/",
          "height": 34
        },
        "outputId": "2439d27e-dcda-4999-809a-2f343373df92"
      },
      "source": [
        "from google.colab import drive\n",
        "drive.mount('/content/gdrive',force_remount=True)"
      ],
      "execution_count": null,
      "outputs": [
        {
          "output_type": "stream",
          "text": [
            "Mounted at /content/gdrive\n"
          ],
          "name": "stdout"
        }
      ]
    },
    {
      "cell_type": "code",
      "metadata": {
        "id": "4b2V6M_QW4EW",
        "colab": {
          "base_uri": "https://localhost:8080/",
          "height": 51
        },
        "outputId": "ea89fa6a-e61f-418d-ef67-759afa212ed4"
      },
      "source": [
        "!unzip \"gdrive/My Drive/facial/data.zip\""
      ],
      "execution_count": null,
      "outputs": [
        {
          "output_type": "stream",
          "text": [
            "Archive:  gdrive/My Drive/facial/data.zip\n",
            "replace Dataset/labels.txt? [y]es, [n]o, [A]ll, [N]one, [r]ename: "
          ],
          "name": "stdout"
        }
      ]
    },
    {
      "cell_type": "code",
      "metadata": {
        "id": "FX-VFvBAXWJl"
      },
      "source": [
        "path1 = glob.glob(\"Dataset/train/surprise/*.png\")\n",
        "X_train = np.zeros((31806,48,48))\n",
        "Y_train = np.zeros((31806,1))\n",
        "k = 0\n",
        "for i in path1 :\n",
        "  img = cv2.imread(i,0)\n",
        "  #print(type(img))\n",
        "  X_train[k,:,:] = np.copy(img)\n",
        "  Y_train[k,:] = 0\n",
        "  k = k + 1\n",
        "  print(k)\n",
        "path2 = glob.glob(\"Dataset/train/anger/*.png\")\n",
        "for i in path2 :\n",
        "  img = cv2.imread(i,0)\n",
        "  #print(type(img))\n",
        "  X_train[k,:,:] = np.copy(img)\n",
        "  Y_train[k,:] = 1\n",
        "  k = k + 1\n",
        "  print(k)\n",
        "path3 = glob.glob(\"Dataset/train/happiness/*.png\")\n",
        "for i in path3 :\n",
        "  img = cv2.imread(i,0)\n",
        "  #print(type(img))\n",
        "  X_train[k,:,:] = np.copy(img)\n",
        "  Y_train[k,:] = 2\n",
        "  k = k + 1\n",
        "  print(k)\n",
        "path4 = glob.glob(\"Dataset/train/neutral/*.png\")\n",
        "for i in path4 :\n",
        "  img = cv2.imread(i,0)\n",
        "  #print(type(img))\n",
        "  X_train[k,:,:] = np.copy(img)\n",
        "  Y_train[k,:] = 3\n",
        "  k = k + 1\n",
        "  print(k)\n",
        "path5 = glob.glob(\"Dataset/train/fear/*.png\")\n",
        "for i in path5 :\n",
        "  img = cv2.imread(i,0)\n",
        "  #print(type(img))\n",
        "  X_train[k,:,:] = np.copy(img)\n",
        "  Y_train[k,:] = 4\n",
        "  k = k + 1\n",
        "  print(k)\n",
        "path6 = glob.glob(\"Dataset/train/sadness/*.png\")\n",
        "for i in path6 :\n",
        "  img = cv2.imread(i,0)\n",
        "  #print(type(img))\n",
        "  X_train[k,:,:] = np.copy(img)\n",
        "  Y_train[k,:] = 5\n",
        "  k = k + 1\n",
        "  print(k)"
      ],
      "execution_count": null,
      "outputs": []
    },
    {
      "cell_type": "code",
      "metadata": {
        "id": "rWoB8ONvaUVo"
      },
      "source": [
        "X_train = X_train/255"
      ],
      "execution_count": null,
      "outputs": []
    },
    {
      "cell_type": "code",
      "metadata": {
        "id": "Rl5C9fMicfA9",
        "colab": {
          "base_uri": "https://localhost:8080/",
          "height": 51
        },
        "outputId": "b91516ce-b56f-42ca-c57a-f56f42d17417"
      },
      "source": [
        "X_train = np.reshape(X_train,(31806,48*48)).T\n",
        "Y_train = Y_train.T\n",
        "print(X_train.shape)\n",
        "print(Y_train.shape)"
      ],
      "execution_count": null,
      "outputs": [
        {
          "output_type": "stream",
          "text": [
            "(2304, 31806)\n",
            "(1, 31806)\n"
          ],
          "name": "stdout"
        }
      ]
    },
    {
      "cell_type": "code",
      "metadata": {
        "id": "_LuuP3PsjfJh",
        "colab": {
          "base_uri": "https://localhost:8080/",
          "height": 51
        },
        "outputId": "afa9b741-726c-49a8-a42b-3a0e635d9875"
      },
      "source": [
        "shape = (31806, 6)\n",
        "one_hot = np.zeros(shape)\n",
        "rows = np.arange(31806)\n",
        "one_hot[rows, Y_train.astype(int)] = 1\n",
        "Y_train = one_hot.T\n",
        "shuffle_index = np.random.permutation(X_train.shape[1])\n",
        "X_train,Y_train = X_train[:,shuffle_index] , Y_train[:,shuffle_index]\n",
        "print(X_train.shape)\n",
        "print(Y_train.shape)\n",
        "n = X_train.shape[0]\n",
        "m = X_train.shape[1]"
      ],
      "execution_count": null,
      "outputs": [
        {
          "output_type": "stream",
          "text": [
            "(2304, 31806)\n",
            "(6, 31806)\n"
          ],
          "name": "stdout"
        }
      ]
    },
    {
      "cell_type": "code",
      "metadata": {
        "id": "r2GAepOkkAfp",
        "colab": {
          "base_uri": "https://localhost:8080/",
          "height": 119
        },
        "outputId": "7aea1b1d-1589-41fc-8d31-0ac7fc52d077"
      },
      "source": [
        "print(Y_train)"
      ],
      "execution_count": null,
      "outputs": [
        {
          "output_type": "stream",
          "text": [
            "[[1. 1. 0. ... 0. 0. 0.]\n",
            " [0. 0. 0. ... 0. 1. 0.]\n",
            " [0. 0. 0. ... 0. 0. 0.]\n",
            " [0. 0. 1. ... 1. 0. 0.]\n",
            " [0. 0. 0. ... 0. 0. 1.]\n",
            " [0. 0. 0. ... 0. 0. 0.]]\n"
          ],
          "name": "stdout"
        }
      ]
    },
    {
      "cell_type": "code",
      "metadata": {
        "id": "TDZY4zj-leTr"
      },
      "source": [
        "def softmax(x) :\n",
        "  x = x - np.max(x)\n",
        "  return np.exp(x) / np.sum(np.exp(x), axis=0,keepdims=True)\n",
        "def relu(X) :\n",
        "  X[X<0]=0\n",
        "  return X\n",
        "def initialize_wts(struct) :\n",
        "  W = {}\n",
        "  b = {}\n",
        "  for i in range(1,len(struct)) :\n",
        "    W[\"W\" + str(i)] = np.random.randn(struct[i],struct[i-1])*np.sqrt(2/struct[i-1])\n",
        "    #W[\"W\" + str(i)] = np.random.randn(struct[i],struct[i-1])*0.01\n",
        "    #W[\"W\" + str(i)] = np.random.rand(struct[i],struct[i-1])\n",
        "    b[\"b\" + str(i)] = np.zeros((struct[i],1))\n",
        "  return W,b\n",
        "def forward_prop(X_train,W,b) :\n",
        "  return relu(np.dot(W,X_train) + b)"
      ],
      "execution_count": null,
      "outputs": []
    },
    {
      "cell_type": "code",
      "metadata": {
        "id": "_1dbZSfGm3Hp"
      },
      "source": [
        "def model(struct,X_train,Y_train,lr,W,b,num_itr) :\n",
        "  n = X_train.shape[0]\n",
        "  m = X_train.shape[1]\n",
        "  \n",
        "  cost1 = 50\n",
        "  for k in range(0,num_itr) :\n",
        "    A = {}\n",
        "    A[\"A\" + str(0)] = np.copy(X_train)\n",
        "    for i in range(1,len(struct)-1) :\n",
        "      A[\"A\" + str(i)] = forward_prop(A[\"A\" + str(i-1)],W[\"W\" + str(i)],b[\"b\" + str(i)])\n",
        "    A[\"A\" + str(len(struct) - 1)] = softmax(np.dot(W[\"W\" + str(len(struct) - 1)] , A[\"A\" + str(len(struct) - 2)]) + b[\"b\" + str(len(struct) - 1)])\n",
        "    dW = {}\n",
        "    db = {}\n",
        "    dZ = {}\n",
        "    dZ[\"dZ\" + str(len(struct) - 1)] = A[\"A\" + str(len(struct) - 1)] - Y_train\n",
        "    dW[\"dW\" + str(len(struct) - 1)] = (1/m)*(np.dot(dZ[\"dZ\" + str(len(struct) - 1)],A[\"A\" + str(len(struct) - 2)].T))\n",
        "    db[\"db\" + str(len(struct) - 1)] = (1/m)*(np.sum(dZ[\"dZ\" + str(len(struct) - 1)],axis = 1, keepdims = True))\n",
        "    for i in range(0,len(W) - 1) :\n",
        "      dZ[\"dZ\" + str(len(W) - 1 - i)] = np.dot(W[\"W\" + str(len(W) - i)].T,dZ[\"dZ\" + str(len(W) - i)])*np.int64(A[\"A\" + str(len(W) - 1 - i)] > 0)\n",
        "      dW[\"dW\" + str(len(W) - 1 - i)] = (1/m)*np.dot(dZ[\"dZ\" + str(len(W) - 1 - i)] , A[\"A\" + str(len(W) - 1 - i - 1)].T)\n",
        "      db[\"db\" + str(len(W) - i - 1)] = (1/m)*np.sum(dZ[\"dZ\" + str(len(W) - 1 - i)],axis = 1,keepdims = True)\n",
        "    for i in range(1,len(W) + 1) :\n",
        "      W[\"W\" + str(i)] = W[\"W\" + str(i)] - lr*dW[\"dW\" + str(i)]\n",
        "      b[\"b\" + str(i)] = b[\"b\" + str(i)] - lr*db[\"db\" + str(i)]\n",
        "    #cost1 = (-1/m)*np.sum(np.dot(Y_train,np.log(A[\"A\" + str(len(struct) - 1)]).T) + np.dot(1 - Y_train,np.log(1 - A[\"A\" + str(len(struct) - 1)]).T))\n",
        "    cost1 = -np.mean(Y_train * np.log(A[\"A\" + str(len(struct) - 1)] + 1e-8))\n",
        "    #log_likelihood = -np.log(A[\"A\" + str(len(struct) - 1)][range(m),Y_train])\n",
        "    #cost1 = np.sum(log_likelihood) / m\n",
        "    #costu.append(float(cost1))\n",
        "    #print(\"Cost after {}th iteration is : {} {}\".format(k,cost1,lr))\n",
        "  #plt.plot(list(range(num_itr)) , costu)\n",
        "  #plt.show()\n",
        "  return W,b,A[\"A\" + str(len(struct) - 1)],float(cost1)"
      ],
      "execution_count": null,
      "outputs": []
    },
    {
      "cell_type": "code",
      "metadata": {
        "id": "QxZd-s25m6XI"
      },
      "source": [
        "def train(struct,X_train,Y_train,lr,epoks,batch_size):\n",
        "  costu = []\n",
        "  W,b = initialize_wts(struct)\n",
        "  for j in range(0,epoks) :\n",
        "    for i in range(0,int(X_train.shape[1]/batch_size)+1) :\n",
        "      if i != int(X_train.shape[1]/batch_size) :\n",
        "        X_batch = X_train[:,i*batch_size:(i+1)*batch_size]\n",
        "        Y_batch = Y_train[:,i*batch_size:(i+1)*batch_size]\n",
        "        lim = (i+1)*batch_size\n",
        "      elif i*batch_size == X_train.shape[1] :\n",
        "        continue\n",
        "      else :\n",
        "        X_batch = X_train[:,i*batch_size:-1]\n",
        "        Y_batch = Y_train[:,i*batch_size:-1]\n",
        "        lim = X_train.shape[1]\n",
        "      W,b,A,cost1 = model(struct , X_batch , Y_batch , lr ,W,b,num_itr = 1)\n",
        "      costu.append(cost1)\n",
        "      print(\"Epok : {}  Data_Passed : {}/{}  Train_Loss : {}\".format(j+1,lim,X_train.shape[1],cost1))\n",
        "  A = {}\n",
        "  A[\"A\" + str(0)] = np.copy(X_train)\n",
        "  for i in range(1,len(struct)-1) :\n",
        "    A[\"A\" + str(i)] = forward_prop(A[\"A\" + str(i-1)],W[\"W\" + str(i)],b[\"b\" + str(i)])\n",
        "  A = softmax(np.dot(W[\"W\" + str(len(struct) - 1)] , A[\"A\" + str(len(struct) - 2)]) + b[\"b\" + str(len(struct) - 1)])\n",
        "  plt.plot(list(range(len(costu))),costu)\n",
        "  return W,b,A"
      ],
      "execution_count": null,
      "outputs": []
    },
    {
      "cell_type": "code",
      "metadata": {
        "id": "6YT4VKokm_nZ"
      },
      "source": [
        "W,b,A = train([n,1152,500,100,6],X_train,Y_train,0.1,15,64)"
      ],
      "execution_count": null,
      "outputs": []
    },
    {
      "cell_type": "code",
      "metadata": {
        "id": "9Xs0v6innMTU"
      },
      "source": [
        "def get_output(X,W,b) :\n",
        "  struct = len(W) + 1\n",
        "  A = {}\n",
        "  A[\"A\" + str(0)] = np.copy(X)\n",
        "  for i in range(1,struct-1) :\n",
        "    A[\"A\" + str(i)] = forward_prop(A[\"A\" + str(i-1)],W[\"W\" + str(i)],b[\"b\" + str(i)])\n",
        "  A[\"A\" + str(struct - 1)] = softmax(np.dot(W[\"W\" + str(struct - 1)] , A[\"A\" + str(struct - 2)]) + b[\"b\" + str(struct - 1)])\n",
        "  return A[\"A\" + str(struct - 1)]"
      ],
      "execution_count": null,
      "outputs": []
    },
    {
      "cell_type": "code",
      "metadata": {
        "id": "RQYCTHDfn7io"
      },
      "source": [
        "def predict(A,Y) :\n",
        "  for i in range(0,A.shape[1]) :\n",
        "    a = np.max(A[:,i])\n",
        "    A[:,i] = (A[:,i] == a)\n",
        "  fai = np.absolute(A - Y)\n",
        "  count = 0\n",
        "  for i in range(0,fai.shape[1]) :\n",
        "    if np.sum(fai[:,i]) == 0 :\n",
        "      count += 1\n",
        "  return (count/A.shape[1])*100"
      ],
      "execution_count": null,
      "outputs": []
    },
    {
      "cell_type": "code",
      "metadata": {
        "id": "-BW5ywHuoDTT",
        "colab": {
          "base_uri": "https://localhost:8080/",
          "height": 34
        },
        "outputId": "5a0f92c8-920c-45f7-8529-7a79e6035292"
      },
      "source": [
        "A_train = get_output(X_train,W,b)\n",
        "#A_test  = get_output(X_test,W,b)\n",
        "print(\"Train accuracy is {}\".format(predict(A_train,Y_train)))\n",
        "#print(\"Test accuracy is {}\".format(predict(A_test,Y_test)))"
      ],
      "execution_count": null,
      "outputs": [
        {
          "output_type": "stream",
          "text": [
            "Train accuracy is 45.78381437464629\n"
          ],
          "name": "stdout"
        }
      ]
    },
    {
      "cell_type": "code",
      "metadata": {
        "id": "_f3Ux1gYoH6X"
      },
      "source": [
        ""
      ],
      "execution_count": null,
      "outputs": []
    }
  ]
}